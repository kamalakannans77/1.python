{
 "cells": [
  {
   "cell_type": "code",
   "execution_count": null,
   "id": "3853a7e3",
   "metadata": {},
   "outputs": [],
   "source": [
    "print(\"Welcome to Assignment-1\")"
   ]
  },
  {
   "cell_type": "code",
   "execution_count": 1,
   "id": "05183a46",
   "metadata": {},
   "outputs": [
    {
     "name": "stdout",
     "output_type": "stream",
     "text": [
      "40\n"
     ]
    }
   ],
   "source": [
    "num1=10\n",
    "num2=30\n",
    "add=num1+num2\n",
    "print(add)"
   ]
  },
  {
   "cell_type": "code",
   "execution_count": 4,
   "id": "fce12b80",
   "metadata": {},
   "outputs": [
    {
     "name": "stdout",
     "output_type": "stream",
     "text": [
      "Enter your Value:24\n",
      "normal\n"
     ]
    }
   ],
   "source": [
    "#bmi \n",
    "BMI=int(input(\"Enter your Value:\"))\n",
    "if BMI<18.5:  \n",
    "    print(\"under weight\")\n",
    "elif BMI<24.9: \n",
    "    print(\"normal\") \n",
    "elif BMI<25:\n",
    "    print(\"over weight\")\n",
    "else: \n",
    "    print(\"obese\")"
   ]
  },
  {
   "cell_type": "code",
   "execution_count": 5,
   "id": "2661ff07",
   "metadata": {},
   "outputs": [
    {
     "name": "stdout",
     "output_type": "stream",
     "text": [
      "Enter your Value:34\n",
      "obese\n"
     ]
    }
   ],
   "source": [
    "#bmi \n",
    "BMI=int(input(\"Enter your Value:\"))\n",
    "if BMI<18.5:  \n",
    "    print(\"under weight\")\n",
    "elif BMI<24.9: \n",
    "    print(\"normal\") \n",
    "elif BMI<25:\n",
    "    print(\"over weight\")\n",
    "else: \n",
    "    print(\"obese\")"
   ]
  },
  {
   "cell_type": "code",
   "execution_count": null,
   "id": "5e40b0bd",
   "metadata": {},
   "outputs": [],
   "source": []
  }
 ],
 "metadata": {
  "kernelspec": {
   "display_name": "Python 3 (ipykernel)",
   "language": "python",
   "name": "python3"
  },
  "language_info": {
   "codemirror_mode": {
    "name": "ipython",
    "version": 3
   },
   "file_extension": ".py",
   "mimetype": "text/x-python",
   "name": "python",
   "nbconvert_exporter": "python",
   "pygments_lexer": "ipython3",
   "version": "3.11.5"
  }
 },
 "nbformat": 4,
 "nbformat_minor": 5
}

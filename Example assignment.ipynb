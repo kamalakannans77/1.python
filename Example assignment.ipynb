{
 "cells": [
  {
   "cell_type": "code",
   "execution_count": 3,
   "id": "12959cd4",
   "metadata": {},
   "outputs": [
    {
     "name": "stdout",
     "output_type": "stream",
     "text": [
      "Enter the temperature in celsius52\n",
      "Temperature in farenheit is: 125.60000000000001\n"
     ]
    }
   ],
   "source": [
    "celsius=int(input(\"Enter the temperature in celsius\"))\n",
    "f=(celsius*1.8)+32\n",
    "print(\"Temperature in farenheit is:\",f)"
   ]
  },
  {
   "cell_type": "code",
   "execution_count": 4,
   "id": "e2e6e683",
   "metadata": {},
   "outputs": [
    {
     "name": "stdout",
     "output_type": "stream",
     "text": [
      "Enter the principle amount:1000\n",
      "Enter the time(years):2\n",
      "Enter the rate:5\n",
      "The simple interest is: 100.0\n"
     ]
    }
   ],
   "source": [
    "#simple interest\n",
    "principle=float(input(\"Enter the principle amount:\"))\n",
    "time=int(input(\"Enter the time(years):\"))\n",
    "rate=float(input(\"Enter the rate:\"))\n",
    "simple_interest=(principle*time*rate)/100\n",
    "print(\"The simple interest is:\",simple_interest)"
   ]
  },
  {
   "cell_type": "code",
   "execution_count": 5,
   "id": "f8d260d0",
   "metadata": {},
   "outputs": [
    {
     "name": "stdout",
     "output_type": "stream",
     "text": [
      "Enter the height in centimeters:152\n",
      "The lenght in inches 59.89\n",
      "The lenght in feet 4.99\n"
     ]
    }
   ],
   "source": [
    "cm=int(input(\"Enter the height in centimeters:\"))\n",
    "inches=0.394*cm\n",
    "feet=0.0328*cm\n",
    "print(\"The lenght in inches\",round(inches,2))\n",
    "print(\"The lenght in feet\",round(feet,2))"
   ]
  },
  {
   "cell_type": "code",
   "execution_count": 8,
   "id": "d268fb38",
   "metadata": {},
   "outputs": [
    {
     "name": "stdout",
     "output_type": "stream",
     "text": [
      "The value of x after swapping: 10\n",
      "The value of y after swapping 5\n"
     ]
    }
   ],
   "source": [
    "#exchange the two variables\n",
    "x=5; y=10\n",
    "temp=x\n",
    "x=y\n",
    "y=temp\n",
    "print(\"The value of x after swapping:\",x)\n",
    "print(\"The value of y after swapping\",y)"
   ]
  },
  {
   "cell_type": "code",
   "execution_count": 13,
   "id": "0cd58fad",
   "metadata": {},
   "outputs": [
    {
     "data": {
      "text/plain": [
       "False"
      ]
     },
     "execution_count": 13,
     "metadata": {},
     "output_type": "execute_result"
    }
   ],
   "source": [
    "#test the leap year\n",
    "import calendar\n",
    "calendar.isleap(2016)\n",
    "calendar.isleap(2014)"
   ]
  },
  {
   "cell_type": "code",
   "execution_count": 12,
   "id": "4486fba6",
   "metadata": {},
   "outputs": [
    {
     "data": {
      "text/plain": [
       "True"
      ]
     },
     "execution_count": 12,
     "metadata": {},
     "output_type": "execute_result"
    }
   ],
   "source": [
    "import calendar\n",
    "calendar.isleap(2016)\n"
   ]
  },
  {
   "cell_type": "code",
   "execution_count": 16,
   "id": "639af73f",
   "metadata": {},
   "outputs": [
    {
     "name": "stdout",
     "output_type": "stream",
     "text": [
      "Enter a number:0\n",
      "Zero\n"
     ]
    }
   ],
   "source": [
    "#check if the number positive,negative or zero\n",
    "num1=float(input(\"Enter a number:\"))\n",
    "if num1>=0:\n",
    "    if num1==0:\n",
    "        print(\"Zero\")\n",
    "    else:\n",
    "        print(\"Positive number\")\n",
    "else:\n",
    "    print(\"Negative number\")"
   ]
  },
  {
   "cell_type": "code",
   "execution_count": 17,
   "id": "934634a7",
   "metadata": {},
   "outputs": [
    {
     "name": "stdout",
     "output_type": "stream",
     "text": [
      "k\n",
      "a\n",
      "m\n",
      "a\n",
      "l\n",
      "a\n",
      "k\n",
      "a\n",
      "n\n",
      "n\n",
      "a\n",
      "n\n"
     ]
    }
   ],
   "source": [
    "message='kamalakannan'\n",
    "for i in message:\n",
    "    print(i)"
   ]
  },
  {
   "cell_type": "code",
   "execution_count": 18,
   "id": "4b88a19b",
   "metadata": {},
   "outputs": [
    {
     "name": "stdout",
     "output_type": "stream",
     "text": [
      "10 is an even number\n",
      "99 is an odd number\n",
      "3 is an odd number\n",
      "28 is an even number\n",
      "41 is an odd number\n",
      "40 is an even number\n",
      "5 is an odd number\n",
      "9 is an odd number\n",
      "66 is an even number\n"
     ]
    }
   ],
   "source": [
    "#find odd or even\n",
    "numbers=[10,99,3,28,41,40,5,9,66]\n",
    "for i in numbers:\n",
    "    if i % 2 == 0:\n",
    "        print(i,\"is an even number\")\n",
    "    else:\n",
    "        print(i,\"is an odd number\")"
   ]
  },
  {
   "cell_type": "code",
   "execution_count": 19,
   "id": "3dc8d929",
   "metadata": {},
   "outputs": [
    {
     "data": {
      "text/plain": [
       "[3, 4, 5, 6, 7, 8, 9]"
      ]
     },
     "execution_count": 19,
     "metadata": {},
     "output_type": "execute_result"
    }
   ],
   "source": [
    "range(3,10)\n",
    "list(range(3,10))"
   ]
  },
  {
   "cell_type": "code",
   "execution_count": 20,
   "id": "9b70da4c",
   "metadata": {},
   "outputs": [
    {
     "data": {
      "text/plain": [
       "[4, 6, 8]"
      ]
     },
     "execution_count": 20,
     "metadata": {},
     "output_type": "execute_result"
    }
   ],
   "source": [
    "range(4,10,2)\n",
    "list(range(4,10,2))"
   ]
  },
  {
   "cell_type": "code",
   "execution_count": 22,
   "id": "bf5350e9",
   "metadata": {},
   "outputs": [
    {
     "data": {
      "text/plain": [
       "[0, 1, 2, 3, 4]"
      ]
     },
     "execution_count": 22,
     "metadata": {},
     "output_type": "execute_result"
    }
   ],
   "source": [
    "range(5)\n",
    "list(range(5))"
   ]
  },
  {
   "cell_type": "code",
   "execution_count": null,
   "id": "57470125",
   "metadata": {},
   "outputs": [],
   "source": []
  },
  {
   "cell_type": "code",
   "execution_count": 24,
   "id": "33d9925a",
   "metadata": {},
   "outputs": [
    {
     "name": "stdout",
     "output_type": "stream",
     "text": [
      "0\n",
      "1\n",
      "2\n",
      "3\n",
      "4\n",
      "5\n"
     ]
    }
   ],
   "source": [
    "for num in range(6):\n",
    "    print(num)"
   ]
  },
  {
   "cell_type": "code",
   "execution_count": 40,
   "id": "7e127835",
   "metadata": {},
   "outputs": [
    {
     "name": "stdout",
     "output_type": "stream",
     "text": [
      "Enter the number to be searched in the list:34\n"
     ]
    }
   ],
   "source": [
    "#item is present in the list\n",
    "list=[10,12,13,34,27,98]\n",
    "num=int(input(\"Enter the number to be searched in the list:\"))\n",
    "for item in range(len(list)):\n",
    "    if list[item] == num:\n",
    "        print(\"Item found at:\",(item+1))\n",
    "    break\n",
    "else:\n",
    "    print(\"Item not found in the given list\")"
   ]
  },
  {
   "cell_type": "code",
   "execution_count": null,
   "id": "013316f8",
   "metadata": {},
   "outputs": [],
   "source": []
  }
 ],
 "metadata": {
  "kernelspec": {
   "display_name": "Python 3 (ipykernel)",
   "language": "python",
   "name": "python3"
  },
  "language_info": {
   "codemirror_mode": {
    "name": "ipython",
    "version": 3
   },
   "file_extension": ".py",
   "mimetype": "text/x-python",
   "name": "python",
   "nbconvert_exporter": "python",
   "pygments_lexer": "ipython3",
   "version": "3.11.5"
  }
 },
 "nbformat": 4,
 "nbformat_minor": 5
}

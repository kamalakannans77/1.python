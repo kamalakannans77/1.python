{
 "cells": [
  {
   "cell_type": "code",
   "execution_count": null,
   "id": "182b07d5",
   "metadata": {},
   "outputs": [],
   "source": [
    "#if\n",
    "if():\n",
    "    print()\n",
    "    "
   ]
  },
  {
   "cell_type": "code",
   "execution_count": null,
   "id": "aef7c921",
   "metadata": {},
   "outputs": [],
   "source": [
    "age=int(input('Enter the age:'))"
   ]
  },
  {
   "cell_type": "code",
   "execution_count": null,
   "id": "f0c18eb2",
   "metadata": {},
   "outputs": [],
   "source": [
    "if(age==18):\n",
    "    print(\"Adult\")"
   ]
  },
  {
   "cell_type": "code",
   "execution_count": null,
   "id": "38056911",
   "metadata": {},
   "outputs": [],
   "source": [
    "age=int(input('Enter the age:'))"
   ]
  },
  {
   "cell_type": "code",
   "execution_count": null,
   "id": "811befbf",
   "metadata": {},
   "outputs": [],
   "source": [
    "if(age==18):\n",
    "    print(\"Adult\")"
   ]
  },
  {
   "cell_type": "code",
   "execution_count": null,
   "id": "83192c3e",
   "metadata": {},
   "outputs": [],
   "source": [
    "#if-else\n"
   ]
  },
  {
   "cell_type": "code",
   "execution_count": null,
   "id": "69233aa1",
   "metadata": {},
   "outputs": [],
   "source": [
    "if():\n",
    "    print()\n",
    "else:\n",
    "    print()"
   ]
  },
  {
   "cell_type": "code",
   "execution_count": null,
   "id": "5467fc09",
   "metadata": {},
   "outputs": [],
   "source": [
    "age=int(input('Enter the age:'))"
   ]
  },
  {
   "cell_type": "code",
   "execution_count": null,
   "id": "5df9332c",
   "metadata": {},
   "outputs": [],
   "source": [
    "if(age<18):\n",
    "    print(\"Children\")\n",
    "else:\n",
    "    print(\"Aldult\")"
   ]
  },
  {
   "cell_type": "code",
   "execution_count": null,
   "id": "d19ec92b",
   "metadata": {},
   "outputs": [],
   "source": [
    "#if-elif\n",
    "if():\n",
    "    print()\n",
    "elif():\n",
    "    print()\n",
    "elif():\n",
    "    print()\n",
    "else:\n",
    "    print()"
   ]
  },
  {
   "cell_type": "code",
   "execution_count": null,
   "id": "c112f06f",
   "metadata": {},
   "outputs": [],
   "source": [
    "#if-elif\n",
    "if():\n",
    "    print()\n",
    "elif():\n",
    "    print()\n",
    "elif():\n",
    "    print()\n",
    "else:\n",
    "    print()"
   ]
  },
  {
   "cell_type": "code",
   "execution_count": null,
   "id": "db4aab1d",
   "metadata": {},
   "outputs": [],
   "source": [
    "age=int(input(\"Enteryour age:\"))\n",
    "if age<18:  \n",
    "    print(\"children\")\n",
    "elif age<35: \n",
    "    print(\"adult\")\n",
    "elif age<59:\n",
    "    print(\"citizen\") \n",
    "else: \n",
    "    print(\"senior citizen\")"
   ]
  },
  {
   "cell_type": "code",
   "execution_count": 2,
   "id": "8c869e31",
   "metadata": {},
   "outputs": [],
   "source": [
    "#for loop\n"
   ]
  },
  {
   "cell_type": "code",
   "execution_count": 3,
   "id": "0bbee21b",
   "metadata": {},
   "outputs": [],
   "source": [
    "lists=[23,45,67,34,89]"
   ]
  },
  {
   "cell_type": "code",
   "execution_count": 4,
   "id": "79846fb8",
   "metadata": {},
   "outputs": [
    {
     "name": "stdout",
     "output_type": "stream",
     "text": [
      "23\n",
      "45\n",
      "67\n",
      "34\n",
      "89\n"
     ]
    }
   ],
   "source": [
    "for temp in lists:\n",
    "    print(temp)"
   ]
  },
  {
   "cell_type": "code",
   "execution_count": 5,
   "id": "28f4ecce",
   "metadata": {},
   "outputs": [
    {
     "name": "stdout",
     "output_type": "stream",
     "text": [
      "adult\n",
      "citizen\n",
      "senior citizen\n",
      "adult\n",
      "senior citizen\n"
     ]
    }
   ],
   "source": [
    "for age in lists:\n",
    "    if (age<18):  \n",
    "        print(\"children\")\n",
    "    elif (age<35): \n",
    "        print(\"adult\")\n",
    "    elif (age<59):\n",
    "        print(\"citizen\") \n",
    "    else: \n",
    "        print(\"senior citizen\")"
   ]
  },
  {
   "cell_type": "code",
   "execution_count": 6,
   "id": "245249a0",
   "metadata": {},
   "outputs": [
    {
     "data": {
      "text/plain": [
       "range(0, 10)"
      ]
     },
     "execution_count": 6,
     "metadata": {},
     "output_type": "execute_result"
    }
   ],
   "source": [
    "range(0,10)"
   ]
  },
  {
   "cell_type": "code",
   "execution_count": 7,
   "id": "c7218290",
   "metadata": {},
   "outputs": [
    {
     "name": "stdout",
     "output_type": "stream",
     "text": [
      "range(0, 10)\n"
     ]
    }
   ],
   "source": [
    "print(range(0,10))"
   ]
  },
  {
   "cell_type": "code",
   "execution_count": 11,
   "id": "4ff77073",
   "metadata": {},
   "outputs": [
    {
     "name": "stdout",
     "output_type": "stream",
     "text": [
      "0\n",
      "1\n",
      "2\n",
      "3\n",
      "4\n",
      "5\n",
      "6\n",
      "7\n",
      "8\n",
      "9\n"
     ]
    }
   ],
   "source": [
    "for num in range(0,10):\n",
    "    print(num)"
   ]
  },
  {
   "cell_type": "code",
   "execution_count": 13,
   "id": "df2306b4",
   "metadata": {},
   "outputs": [
    {
     "name": "stdout",
     "output_type": "stream",
     "text": [
      "20\n",
      "21\n",
      "22\n",
      "23\n",
      "24\n",
      "25\n",
      "26\n",
      "27\n",
      "28\n",
      "29\n"
     ]
    }
   ],
   "source": [
    "for num in range(20,30):\n",
    "    print(num)"
   ]
  },
  {
   "cell_type": "code",
   "execution_count": null,
   "id": "6e88555b",
   "metadata": {},
   "outputs": [],
   "source": []
  }
 ],
 "metadata": {
  "kernelspec": {
   "display_name": "Python 3 (ipykernel)",
   "language": "python",
   "name": "python3"
  },
  "language_info": {
   "codemirror_mode": {
    "name": "ipython",
    "version": 3
   },
   "file_extension": ".py",
   "mimetype": "text/x-python",
   "name": "python",
   "nbconvert_exporter": "python",
   "pygments_lexer": "ipython3",
   "version": "3.11.5"
  }
 },
 "nbformat": 4,
 "nbformat_minor": 5
}
